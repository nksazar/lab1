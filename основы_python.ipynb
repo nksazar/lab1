{
  "cells": [
    {
      "cell_type": "markdown",
      "metadata": {
        "id": "M-DGa20PaHnu"
      },
      "source": [
        "#Задача 1\n",
        "Написать функцию на вход которой подается строка, состоящая из латинских букв.\n",
        "Функция должна вернуть количество гласных букв (a, e, i, o, u) в этой строке. Написать тесты для кода"
      ]
    },
    {
      "cell_type": "code",
      "execution_count": null,
      "metadata": {
        "id": "XvX8X_JJ6PCb"
      },
      "outputs": [],
      "source": [
        "def count_slova(line):\n",
        "    count = 0\n",
        "    for i in range(0, len(line)):\n",
        "        if line[i] in 'AaEeIiOoUu':\n",
        "            count += 1 \n",
        "    return count\n",
        "print(count_slova('iotik'))\n",
        "print(count_slova('poiklae'))\n",
        "print(count_slova('opiumteame'))"
      ]
    },
    {
      "cell_type": "markdown",
      "metadata": {},
      "source": [
        "3\n",
        "4\n",
        "6"
      ]
    },
    {
      "cell_type": "markdown",
      "metadata": {
        "id": "t2ClV_Y0bbr6"
      },
      "source": [
        "# Задача 2\n",
        "Написать функцию на вход, которой подается строка. Функция должна вернуть true, если\n",
        "каждый символ в строке встречается только 1 раз, иначе должна вернуть false. Написать тесты для кода"
      ]
    },
    {
      "cell_type": "code",
      "execution_count": null,
      "metadata": {
        "id": "FppbECao6VIz"
      },
      "outputs": [],
      "source": [
        "def uniqum(s):\n",
        "    return len(set(s)) == len(s)\n",
        "print(uniqum('poiman'))\n",
        "print(uniqum('poplim'))"
      ]
    },
    {
      "cell_type": "markdown",
      "metadata": {},
      "source": [
        "True\n",
        "False"
      ]
    },
    {
      "cell_type": "markdown",
      "metadata": {
        "id": "udRiIK1cdt6E"
      },
      "source": [
        "# Задача 3\n",
        "Написать функцию, которая принимает положительное число и возвращает количество\n",
        "бит равных 1 в этом числе. Написать тесты для кода"
      ]
    },
    {
      "cell_type": "code",
      "execution_count": null,
      "metadata": {
        "id": "6tkfDJRz6dp_"
      },
      "outputs": [],
      "source": [
        "def count_bits(n):\n",
        "    return bin(n).count('1')"
      ]
    },
    {
      "cell_type": "markdown",
      "metadata": {},
      "source": [
        "7\n",
        "2"
      ]
    },
    {
      "cell_type": "markdown",
      "metadata": {
        "id": "26dDUz-Ae17N"
      },
      "source": [
        "# Задача 4\n",
        "Написать функцию, которая принимает положительное число. Функция должна вернуть то,\n",
        "сколько раз необходимо перемножать цифры числа или результат перемножения, чтобы\n",
        "получилось число состоящее из одной цифры.\n",
        "Например, для входного числа:\n",
        "· 39 функция должна вернуть 3, так как 3*9=27 => 2*7=14 => 1*4=4\n",
        "· 4 функция должна вернуть 0, так как число уже состоит из одной цифры\n",
        "· 999 функция должна вернуть 4, так как 9*9*9=729 => 7*2*9=126 => 1*2*6=12 =>\n",
        "1*2=2. Написать тесты для кода"
      ]
    },
    {
      "cell_type": "code",
      "execution_count": null,
      "metadata": {
        "id": "BH1A_Mgi6i4G"
      },
      "outputs": [],
      "source": [
        "def magic(number):\n",
        "    if number < 10:\n",
        "        return number\n",
        "\n",
        "    while number >= 10:\n",
        "        newnumber = 1\n",
        "        for chis in str(number):\n",
        "            newnumber *= int(chis)\n",
        "        number = newnumber  \n",
        "\n",
        "    return number"
      ]
    },
    {
      "cell_type": "markdown",
      "metadata": {},
      "source": [
        "2\n",
        "8"
      ]
    },
    {
      "cell_type": "markdown",
      "metadata": {
        "id": "0nS-kIa8g8vd"
      },
      "source": [
        "# Задача 5\n",
        "Написать функцию, которая принимает два целочисленных вектора одинаковой длины и\n",
        "возвращает среднеквадратическое отклонение двух векторов. Написать тесты для кода"
      ]
    },
    {
      "cell_type": "code",
      "execution_count": null,
      "metadata": {
        "id": "8iphx4LM6xbx"
      },
      "outputs": [],
      "source": [
        "def mse(vector1, vector2):\n",
        "    if len(vector1) != len(vector2):\n",
        "        raise ValueError(\"Vectors must be of the same length.\")\n",
        "\n",
        "    n = len(vector1)\n",
        "    error = sum((vector1[i] - vector2[i]) ** 2 for i in range(n))\n",
        "    return error / n\n",
        "t1 = [1,4,6,2,3]\n",
        "t2 = [5,2,8,7,0]\n",
        "t3 = [1,2,3,4,5]\n",
        "t4 = [1,2,3,4,5]\n",
        "print(mse(t1,t2))\n",
        "print(mse(t3,t4))"
      ]
    },
    {
      "cell_type": "markdown",
      "metadata": {},
      "source": [
        "11.6\n",
        "0.0"
      ]
    },
    {
      "cell_type": "markdown",
      "metadata": {
        "id": "vpIPKL439zkw"
      },
      "source": [
        "# Задача 6\n",
        "Написать функцию, принимающая целое положительное число. Функция должна вернуть\n",
        "строку вида “(n1**p1)(n2**p2)…(nk**pk)” представляющая разложение числа на простые\n",
        "множители (если pi == 1, то выводить только ni).\n",
        "Например, для числа 86240 функция должна вернуть “(2**5)(5)(7**2)(11)”. Написать тесты для кода"
      ]
    },
    {
      "cell_type": "code",
      "execution_count": null,
      "metadata": {
        "id": "pFebmcZk94Jw"
      },
      "outputs": [],
      "source": [
        "def prime_factors(n):\n",
        "    if n <= 1:\n",
        "        raise ValueError(\"Блин\")\n",
        "    factors = {}\n",
        "    # Проверка на количество 2\n",
        "    while n % 2 == 0:\n",
        "        if 2 not in factors:\n",
        "            factors[2] = 0\n",
        "        factors[2] += 1\n",
        "        n //= 2\n",
        "    # Проверка на все остальные числа\n",
        "    for i in range(3, int(n**0.5) + 1, 2):\n",
        "        while n % i == 0:\n",
        "            if i not in factors:\n",
        "                factors[i] = 0\n",
        "            factors[i] += 1\n",
        "            n //= i\n",
        "    # Если n осталось и больше 2, то оно простое\n",
        "    if n > 2:\n",
        "        factors[n] = 1\n",
        "    # Формирование строкового представления\n",
        "    result = \"\"\n",
        "    for p, exp in factors.items():\n",
        "        if exp > 1:\n",
        "            result += f\"({p}**{exp})\"\n",
        "        else:\n",
        "            result += f\"({p})\"\n",
        "    return result\n",
        "print(prime_factors(50))\n",
        "print(prime_factors(750))"
      ]
    },
    {
      "cell_type": "markdown",
      "metadata": {},
      "source": [
        "(2)(5**2)\n",
        "(2)(3)(5**3)"
      ]
    },
    {
      "cell_type": "markdown",
      "metadata": {
        "id": "ps2s0BudX7A2"
      },
      "source": [
        "# Задача 7\n",
        "Написать функцию, принимающая целое число n, задающее количество кубиков. Функция\n",
        "должна определить, можно ли из данного кол-ва кубиков построить пирамиду, то есть\n",
        "можно ли представить число n как 1^2+2^2+3^2+…+k^2. Если можно, то функция должна\n",
        "вернуть k, иначе строку “It is impossible”. Написать тесты для кода"
      ]
    },
    {
      "cell_type": "code",
      "execution_count": null,
      "metadata": {
        "id": "3YPjEXxhX_YT"
      },
      "outputs": [],
      "source": [
        "def pyramid(n):\n",
        "    if n <= 0:\n",
        "        return \"Нельзя(\"\n",
        "    k = 0\n",
        "    sum_sq = 0\n",
        "    while sum_sq < n:\n",
        "        k += 1\n",
        "        sum_sq += k**2\n",
        "    if sum_sq == n:\n",
        "        return k\n",
        "    else:\n",
        "        return \"Нельзя\"\n",
        "print(pyramid(178))\n",
        "print(pyramid(87176156))\n",
        "print(pyramid(91))"
      ]
    },
    {
      "cell_type": "markdown",
      "metadata": {},
      "source": [
        "Нельзя\n",
        "Нельзя\n",
        "6"
      ]
    },
    {
      "cell_type": "markdown",
      "metadata": {
        "id": "KeKgmIdAQMEJ"
      },
      "source": [
        "# Задача 8\n",
        "Функция принимает на вход положительное число и определяет является ли оно сбалансированным, т.е. сумма цифр до средних равна сумме цифр после. Средними в случае нечетного числа цифр считать одну цифру, в случае четного - две средних. Написать тесты для кода"
      ]
    },
    {
      "cell_type": "code",
      "execution_count": null,
      "metadata": {
        "id": "gMAAqtqlQrZt"
      },
      "outputs": [],
      "source": [
        "def balans_ch(number):\n",
        "    str_num = str(number)\n",
        "    length = len(str_num)\n",
        "    if length == 1:\n",
        "        return True\n",
        "    if length % 2 == 0:\n",
        "        mid_index = length // 2\n",
        "        left_sum = sum(int(str_num[i]) for i in range(mid_index - 1))\n",
        "        right_sum = sum(int(str_num[i]) for i in range(mid_index + 1, length))\n",
        "    else: \n",
        "        mid_index = length // 2\n",
        "        left_sum = sum(int(str_num[i]) for i in range(mid_index))\n",
        "        right_sum = sum(int(str_num[i]) for i in range(mid_index + 1, length))\n",
        "    return left_sum == right_sum\n",
        "print(balans_ch(137731))\n",
        "print(balans_ch(447656714))"
      ]
    },
    {
      "cell_type": "markdown",
      "metadata": {},
      "source": [
        "True\n",
        "False"
      ]
    }
  ],
  "metadata": {
    "colab": {
      "provenance": []
    },
    "kernelspec": {
      "display_name": "Python 3",
      "name": "python3"
    },
    "language_info": {
      "name": "python"
    }
  },
  "nbformat": 4,
  "nbformat_minor": 0
}
