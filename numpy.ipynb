{
  "cells": [
    {
      "cell_type": "markdown",
      "metadata": {
        "id": "vC84e9kzyxPy"
      },
      "source": [
        "<h1>Импорт библиотек"
      ]
    },
    {
      "cell_type": "code",
      "execution_count": null,
      "metadata": {
        "id": "cgKeNegmQG5S"
      },
      "outputs": [],
      "source": [
        "import numpy as np\n",
        "import matplotlib.pyplot as plt"
      ]
    },
    {
      "cell_type": "markdown",
      "metadata": {
        "id": "qFM9uVU2x4Ls"
      },
      "source": [
        "<h1>Задача 1. Дан набор из $p$ матриц размерностью $(n, n)$ и $p$ векторов размерностью $(n, 1)$, найти сумму произведений матриц на векторы. Написать тесты для кода"
      ]
    },
    {
      "cell_type": "code",
      "execution_count": null,
      "metadata": {
        "id": "IAbUvEiYyWFF"
      },
      "outputs": [],
      "source": [
        "def sum_prod(X, V):\n",
        "    result = np.zeros_like(V[0])\n",
        "    for matrix, vector in zip(X, V):\n",
        "        result += np.dot(matrix, vector)\n",
        "    return result\n",
        "\n",
        "X = [np.array([[1, 2], [3, 4]]), np.array([[2, 6], [7, 12]])]\n",
        "V = [np.array([[1], [2]]), np.array([[5], [7]])]\n",
        "print(sum_prod(X,V))"
      ]
    },
    {
      "cell_type": "markdown",
      "metadata": {},
      "source": [
        "[[ 57]\n",
        " [130]]"
      ]
    },
    {
      "cell_type": "markdown",
      "metadata": {
        "id": "TKwPG4fIy2w4"
      },
      "source": [
        "<h1>Задача 2. Дана матрица M, напишите функцию, которая бинаризует матрицу по некоторому threshold (то есть, все значения большие threshold становятся равными 1, иначе 0). Напишите тесты для кода"
      ]
    },
    {
      "cell_type": "code",
      "execution_count": null,
      "metadata": {
        "id": "KQDNMgsjRNH7"
      },
      "outputs": [],
      "source": [
        "def binarize(M: np.array, threshold=0.5):\n",
        "    size = M.shape\n",
        "    for i in range(size[0]):\n",
        "        for j in range(size[1]):\n",
        "            M[i][j] = 1 if M[i][j] > threshold else 0\n",
        "    return M\n",
        "print(binarize(np.array([[1,2,3],[2,0.3,0.7],[3,4,1]])))\n",
        "print()\n",
        "print(binarize(np.array([[1,0.1,3],[0.2,3,4],[3,0.3,5]]), 2))"
      ]
    },
    {
      "cell_type": "markdown",
      "metadata": {},
      "source": [
        "[[1. 1. 1.]\n",
        " [1. 0. 1.]\n",
        " [1. 1. 1.]]\n",
        "\n",
        "[[0. 0. 1.]\n",
        " [0. 1. 1.]\n",
        " [1. 0. 1.]]"
      ]
    },
    {
      "cell_type": "markdown",
      "metadata": {
        "id": "IY5L-h-7zWhN"
      },
      "source": [
        "<h1>Задача 3. Напишите функцию, которая возвращает уникальные элементы из каждой строки матрицы. Напишите такую же функцию, но для столбцов. Напишите тесты для кода"
      ]
    },
    {
      "cell_type": "code",
      "execution_count": null,
      "metadata": {
        "id": "-8dEZhR0SBC-"
      },
      "outputs": [],
      "source": [
        "def unique_rows(matrix):\n",
        "    return [np.unique(row) for row in matrix]\n",
        "\n",
        "def unique_columns(matrix):\n",
        "    return [np.unique(matrix[:, col]) for col in range(matrix.shape[1])]\n",
        "print(unique_columns(np.array([[1,2,3],[4,5,6],[7,8,9]])))\n",
        "print()\n",
        "print(unique_rows(np.array([[1,2,3],[2,3,4],[3,4,5]])))\n",
        "print()\n",
        "print(unique_columns(np.array([[1,2,1],[1,5,1],[7,8,9]])))\n",
        "print()\n",
        "print(unique_rows(np.array([[1,1,3],[2,4,4],[5,4,5]])))"
      ]
    },
    {
      "cell_type": "markdown",
      "metadata": {},
      "source": [
        "[array([1, 4, 7]), array([2, 5, 8]), array([3, 6, 9])]\n",
        "\n",
        "[array([1, 2, 3]), array([2, 3, 4]), array([3, 4, 5])]\n",
        "\n",
        "[array([1, 7]), array([2, 5, 8]), array([1, 9])]\n",
        "\n",
        "[array([1, 3]), array([2, 4]), array([4, 5])]"
      ]
    },
    {
      "cell_type": "markdown",
      "metadata": {
        "id": "roYAlo4Jz-lH"
      },
      "source": [
        "<h1>Задача 4. Напишите функцию, которая заполняет матрицу с размерами $(m, n)$ случайными числами, распределенными по нормальному закону. Затем считает мат. ожидание и дисперсию для каждого из столбцов и строк, а также строит для каждой строки и столбца гистограмму значений (использовать функцию hist из модуля matplotlib.plot)"
      ]
    },
    {
      "cell_type": "code",
      "execution_count": null,
      "metadata": {
        "id": "nZK_71hMSQzv"
      },
      "outputs": [],
      "source": [
        "def analyze_matrix(rows=5, cols=5):\n",
        "    matrix = np.random.randn(rows, cols)\n",
        "    print(\"Матрица:\")\n",
        "    print(matrix)\n",
        "\n",
        "    col_means = np.mean(matrix, axis=0)\n",
        "    col_vars = np.var(matrix, axis=0)\n",
        "    print(\"\\nСтатистики по столбцам:\")\n",
        "    for i in range(cols):\n",
        "        print(f\"Столбец {i+1}: Среднее = {col_means[i]:.4f}, Дисперсия = {col_vars[i]:.4f}\")\n",
        "\n",
        "    row_means = np.mean(matrix, axis=1)\n",
        "    row_vars = np.var(matrix, axis=1)\n",
        "    print(\"\\nСтатистики по строкам:\")\n",
        "    for i in range(rows):\n",
        "        print(f\"Строка {i+1}: Среднее = {row_means[i]:.4f}, Дисперсия = {row_vars[i]:.4f}\")\n",
        "\n",
        "    for i in range(cols):\n",
        "        plt.figure(figsize=(6,4))\n",
        "        plt.hist(matrix[:, i], bins=10, edgecolor='black')\n",
        "        plt.title(f'Гистограмма столбца {i+1}')\n",
        "        plt.xlabel('Значение')\n",
        "        plt.ylabel('Частота')\n",
        "        plt.grid(True)\n",
        "        plt.show()\n",
        "\n",
        "    for i in range(rows):\n",
        "        plt.figure(figsize=(6,4))\n",
        "        plt.hist(matrix[i, :], bins=10, edgecolor='black')\n",
        "        plt.title(f'Гистограмма строки {i+1}')\n",
        "        plt.xlabel('Значение')\n",
        "        plt.ylabel('Частота')\n",
        "        plt.grid(True)\n",
        "        plt.show()\n",
        "analyze_matrix(2, 1)"
      ]
    },
    {
      "cell_type": "markdown",
      "metadata": {},
      "source": [
        "Матрица:\n",
        "[[-0.180973 ]\n",
        " [ 0.8150904]]\n",
        "\n",
        "Статистики по столбцам:\n",
        "Столбец 1: Среднее = 0.3171, Дисперсия = 0.2480\n",
        "\n",
        "Статистики по строкам:\n",
        "Строка 1: Среднее = -0.1810, Дисперсия = 0.0000\n",
        "Строка 2: Среднее = 0.8151, Дисперсия = 0.0000\n",
        "\n",
        "![alt text](Figure_3.png) ![alt text](Figure_1-1.png) ![alt text](Figure_2.png)"
      ]
    },
    {
      "cell_type": "markdown",
      "metadata": {
        "id": "BDyATNdM0dJ2"
      },
      "source": [
        "<h1>Задача 5. Напишите функцию, которая заполняет матрицу $(m, n)$ в шахматном порядке заданными числами $a$ и $b$. Напишите тесты для кода"
      ]
    },
    {
      "cell_type": "code",
      "execution_count": null,
      "metadata": {
        "id": "RWNJYWQGecS6"
      },
      "outputs": [],
      "source": [
        "def chess(m, n, a, b):\n",
        "    matrix = []\n",
        "    for i in range(m):\n",
        "        row = []\n",
        "        for j in range(n):\n",
        "            if (i + j) % 2 == 0:\n",
        "                row.append(a)\n",
        "            else:\n",
        "                row.append(b)\n",
        "        matrix.append(row)\n",
        "    return matrix\n",
        "\n",
        "#Тест\n",
        "m, n = 4, 5\n",
        "a, b = 1, 0\n",
        "checkerboard = chess(m, n, a, b)\n",
        "for row in checkerboard:\n",
        "    print(row)"
      ]
    },
    {
      "cell_type": "markdown",
      "metadata": {},
      "source": [
        "[1, 0, 1, 0, 1]\n",
        "[0, 1, 0, 1, 0]\n",
        "[1, 0, 1, 0, 1]\n",
        "[0, 1, 0, 1, 0]"
      ]
    },
    {
      "cell_type": "markdown",
      "metadata": {
        "id": "-ymXLtTN0vB6"
      },
      "source": [
        "<h1>Задача 6. Напишите функцию, которая отрисовывает прямоугольник с заданными размерами (a, b) на изображении размера (m, n), цвет фона задайте в схеме RGB, как и цвет прямоугольника. Цвета также должны быть параметрами функции. Напишите аналогичную функцию но для овала с полуосями a и b. Напишите тесты для кода.\n",
        "Примечание: уравнение эллипса (границы овала) можно записать как:\n",
        "<h1>$\\frac{(x-x_0)^2}{a^2}+\\frac{(y-y_0)^2}{b^2}=1$"
      ]
    },
    {
      "cell_type": "code",
      "execution_count": 1,
      "metadata": {
        "id": "sNfl1t_kfOF4"
      },
      "outputs": [],
      "source": [
        "def draw_rectangle(m, n, a, b, bg_color, rect_color):\n",
        "    image = np.zeros((n, m, 3), dtype=np.uint8)\n",
        "    image[:] = bg_color\n",
        "    top_left_x = (m - a) // 2\n",
        "    top_left_y = (n - b) // 2\n",
        "    image[top_left_y:top_left_y + b, top_left_x:top_left_x + a] = rect_color\n",
        "    plt.imshow(image)\n",
        "    plt.axis('off')\n",
        "    plt.show()\n",
        "\n",
        "def draw_ellipse(m, n, a, b, bg_color, ellipse_color):\n",
        "    Y, X = np.ogrid[:n, :m]\n",
        "    center_x = m / 2\n",
        "    center_y = n / 2\n",
        "    mask = (((X - center_x) / (a / 2))**2 + ((Y - center_y) / (b / 2))**2) <= 1\n",
        "    image = np.zeros((n, m, 3), dtype=np.uint8)\n",
        "    image[:] = bg_color\n",
        "    image[mask] = ellipse_color\n",
        "    plt.imshow(image)\n",
        "    plt.axis('off')\n",
        "    plt.show()\n",
        "\n",
        "# Пример использования\n",
        "if __name__ == \"__main__\":\n",
        "    m, n = 400, 300\n",
        "    a, b = 200, 100\n",
        "    bg_color = [255, 255, 255]      # Белый фон\n",
        "    rect_color = [255, 0, 0]        # Красный прямоугольник\n",
        "    ellipse_color = [0, 0, 255]     # Синий овал\n",
        "\n",
        "    draw_rectangle(m, n, a, b, bg_color, rect_color)\n",
        "    draw_ellipse(m, n, a, b, bg_color, ellipse_color)"
      ]
    },
    {
      "cell_type": "markdown",
      "metadata": {},
      "source": [
        "![alt text](Figure_2-2.png) ![alt text](Figure_1-2.png)"
      ]
    },
    {
      "cell_type": "markdown",
      "metadata": {
        "id": "S82c38oz244H"
      },
      "source": [
        "<h1>Задача 7. Дан некий временной ряд. Для данного ряда нужно найти его: математическое ожидание, дисперсию, СКО, найти все локальные максимумы и минимумы (локальный максимум - это точка, которая больше своих соседних точек, а локальный минимум - это точка, которая меньше своих соседей), а также вычислить для данного ряда другой ряд, получаемый методом скользящего среднего с размером окна $p$.\n",
        "<h1>Примечание: метод скользящего среднего подразумевает нахождение среднего из подмножетсва ряда размером $p$"
      ]
    },
    {
      "cell_type": "code",
      "execution_count": null,
      "metadata": {
        "id": "Zb9mIVge5MMt"
      },
      "outputs": [],
      "source": [
        "def analyze_time_series(series, p):\n",
        "    series = np.array(series)\n",
        "    mean = np.mean(series)\n",
        "    variance = np.var(series)\n",
        "    std_dev = np.std(series)\n",
        "    \n",
        "    maxima = []\n",
        "    minima = []\n",
        "    for i in range(1, len(series)-1):\n",
        "        if series[i] > series[i-1] and series[i] > series[i+1]:\n",
        "            maxima.append(i)\n",
        "        elif series[i] < series[i-1] and series[i] < series[i+1]:\n",
        "            minima.append(i)\n",
        "    \n",
        "    moving_average = np.convolve(series, np.ones(p)/p, mode='valid')\n",
        "    return mean, variance, std_dev, maxima, minima, moving_average\n",
        "\n",
        "# Тест\n",
        "if __name__ == \"__main__\":\n",
        "    time_series = [1, 3, 2, 5, 7, 6, 4, 8, 9, 7, 5, 6, 4, 3, 2, 4, 5]\n",
        "    window_size = 3\n",
        "    mean, variance, std_dev, maxima, minima, moving_avg = analyze_time_series(time_series, window_size)\n",
        "    \n",
        "    print(f\"Математическое ожидание: {mean}\")\n",
        "    print(f\"Дисперсия: {variance}\")\n",
        "    print(f\"СКО: {std_dev}\")\n",
        "    print(f\"Локальные максимумы: {maxima}\")\n",
        "    print(f\"Локальные минимумы: {minima}\")\n",
        "    print(f\"Скользящее среднее: {moving_avg}\")"
      ]
    },
    {
      "cell_type": "markdown",
      "metadata": {},
      "source": [
        "Математическое ожидание: 4.764705882352941\n",
        "Дисперсия: 4.650519031141869\n",
        "СКО: 2.1565062093909835\n",
        "Локальные максимумы: [1, 4, 8, 11]\n",
        "Локальные минимумы: [2, 6, 10, 14]\n",
        "Скользящее среднее: [2.         3.33333333 4.66666667 6.         5.66666667 6.\n",
        " 7.         8.         7.         6.         5.         4.33333333\n",
        " 3.         3.         3.66666667]"
      ]
    },
    {
      "cell_type": "markdown",
      "metadata": {
        "id": "jPkylmOX5O9n"
      },
      "source": [
        "<h1> Задача 8. Дан некоторый вектор с целочисленными метками классов, напишите функцию, которая выполняет one-hot-encoding для данного вектора\n",
        "<h1> One-hot-encoding - представление, в котором на месте метки некоторого класса стоит 1, в остальных позициях стоит 0. Например для вектора [0, 2, 3, 0] one-hot-encoding выглядит как: [[1, 0, 0, 0], [0, 0, 1, 0], [0, 0, 0, 1], [1, 0, 0, 0]]"
      ]
    },
    {
      "cell_type": "code",
      "execution_count": null,
      "metadata": {
        "id": "Y-jlnZvw56lD"
      },
      "outputs": [],
      "source": [
        "def one_hot_encode(labels):\n",
        "    n_classes = max(labels) + 1\n",
        "    one_hot = []\n",
        "    for label in labels:\n",
        "        encoding = [0] * n_classes\n",
        "        encoding[label] = 1\n",
        "        one_hot.append(encoding)\n",
        "    return one_hot\n",
        "\n",
        "# Тест\n",
        "vector = [0, 2, 3, 0]\n",
        "encoded = one_hot_encode(vector)\n",
        "for row in encoded:\n",
        "    print(row)"
      ]
    },
    {
      "cell_type": "markdown",
      "metadata": {},
      "source": [
        "[1, 0, 0, 0]\n",
        "[0, 0, 1, 0]\n",
        "[0, 0, 0, 1]\n",
        "[1, 0, 0, 0]"
      ]
    }
  ],
  "metadata": {
    "colab": {
      "provenance": []
    },
    "kernelspec": {
      "display_name": "Python 3",
      "name": "python3"
    },
    "language_info": {
      "codemirror_mode": {
        "name": "ipython",
        "version": 3
      },
      "file_extension": ".py",
      "mimetype": "text/x-python",
      "name": "python",
      "nbconvert_exporter": "python",
      "pygments_lexer": "ipython3",
      "version": "3.12.3"
    }
  },
  "nbformat": 4,
  "nbformat_minor": 0
}
